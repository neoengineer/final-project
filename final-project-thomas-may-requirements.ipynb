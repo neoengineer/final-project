{
 "cells": [
  {
   "cell_type": "markdown",
   "metadata": {},
   "source": [
    "# Object Classification and Localization \n",
    "Final Project - BIOF509, Thomas May\n",
    "\n",
    "A real time machine learning based automated object detection and tracking capability is developed along with a graphical user interface for the Tello unmanned aerial vehicle. A Single Shot Detector (SSD) combined with the Mobilenet V2 Convolutional Neural Network pretrained on the COCO dataset is used. The SDD is optimized to run the NVidia Jetson nano hardware platform using Cuda optimized TensorFlow Run Time engine (TensorRT)\n",
    "\n",
    "(see also demo.mov and project presentation BIOF509_Presentation.pptx)"
   ]
  },
  {
   "cell_type": "markdown",
   "metadata": {},
   "source": [
    "## Data Source\n",
    "Imagery data from the aircraft is transmitted as a raw H.264 UDP data stream over WiFi. UDP is a connectionless protocol and does not guarantee packet delivery. The ml system must be able to tolerate real-time input data corruption / loss.\n"
   ]
  },
  {
   "cell_type": "markdown",
   "metadata": {},
   "source": [
    "## Sample of a raw H.264 data frame.\n"
   ]
  },
  {
   "cell_type": "code",
   "execution_count": null,
   "metadata": {},
   "outputs": [],
   "source": [
    "(True,\n",
    " array([[[ 39,  73,  80],\n",
    "         [ 38,  72,  79],\n",
    "         [ 40,  67,  75],\n",
    "         ...,\n",
    "         [ 19,  38,  39],\n",
    "         [  0,  39,  37],\n",
    "         [  0,  39,  37]],\n",
    "  \n",
    "        ...,\n",
    " \n",
    "        [[155, 176, 183],\n",
    "         [152, 173, 180],\n",
    "         [146, 167, 174],\n",
    "         ...,\n",
    "         [131, 157, 164],\n",
    "         [130, 155, 162],\n",
    "         [130, 155, 162]]], dtype=uint8))"
   ]
  },
  {
   "cell_type": "markdown",
   "metadata": {},
   "source": [
    "## Raw input video format and conversion\n",
    "The video data frame is 1280 x 720 x 3 in BGR format. The frame is reformatted to 3, 300, 300 RGB and normalized to (-1 to 1) to match the requirements of the pretrained SSD."
   ]
  },
  {
   "cell_type": "markdown",
   "metadata": {},
   "source": [
    "## References\n",
    "SSD - single Shot MultiBox Detector\n",
    "https://arxiv.org/abs/1512.02325\n",
    "https://towardsdatascience.com/understanding-ssd-multibox-real-time-object-detection-in-deep-learning-495ef744fab\n",
    "\n",
    "\n",
    "Resnet18/50 vs Alexnet\n",
    "https://towardsdatascience.com/the-w3h-of-alexnet-vggnet-resnet-and-inception-7baaaecccc96\n",
    "\n",
    "Jetson Nano\n",
    "https://www.nvidia.com/en-us/autonomous-machines/embedded-systems/jetson-nano/"
   ]
  }
 ],
 "metadata": {
  "kernelspec": {
   "display_name": "Python 3",
   "language": "python",
   "name": "python3"
  },
  "language_info": {
   "codemirror_mode": {
    "name": "ipython",
    "version": 3
   },
   "file_extension": ".py",
   "mimetype": "text/x-python",
   "name": "python",
   "nbconvert_exporter": "python",
   "pygments_lexer": "ipython3",
   "version": "3.7.6"
  }
 },
 "nbformat": 4,
 "nbformat_minor": 4
}
