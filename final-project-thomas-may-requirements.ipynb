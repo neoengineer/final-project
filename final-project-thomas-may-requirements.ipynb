{
 "cells": [
  {
   "cell_type": "markdown",
   "metadata": {},
   "source": [
    "# Object Classification and Localization \n",
    "Final Project - BIOF509, Thomas May\n",
    "\n",
    "A real time machine learning based automated object detection and tracking capability is developed along with a graphical user interface for the Tello unmanned aerial vehicle. A Single Shot Detector (SSD) combined with the Mobilenet V2 Convolutional Neural Network pretrained on the COCO dataset is used as the inference engine. The SDD is optimized to run on the NVidia Jetson nano hardware platform using Cuda optimized TensorFlow Run Time engine (TensorRT)\n",
    "\n",
    "(see also demo.mov and project presentation BIOF509_Presentation.pptx)"
   ]
  },
  {
   "cell_type": "markdown",
   "metadata": {},
   "source": [
    "## Project Source Code\n",
    "The project is didvide into the following sections:\n",
    "- TelloGUI_AI.ipynb - Launch point for the application. Provides Tello GUI, GUI bindings, Instanciates all classes\n",
    "- tello.py - Interface class for the Tello drone\n",
    "- stream_camera.py - Interface class for the Tello live video feed camera\n",
    "- ml_process.py - Machine learning interface class. Runs SDD-DNN, generates output images, provides command/control for drone\n",
    "    \n",
    "Source files from NVidia\n",
    "- ssd_mobilenet_v2_v04_coco.engine - NVidia nano optiized SDD-DNN network provided by NVidia\n",
    "- object_detection.py - utilities and interface class for TFTModel class\n",
    "- tensor_model.py - utilities and inferface class for TensorRT engines"
   ]
  },
  {
   "cell_type": "markdown",
   "metadata": {},
   "source": [
    "## Data Source\n",
    "Imagery data from the aircraft is transmitted as a raw H.264 UDP data stream over WiFi. UDP is a connectionless protocol and does not guarantee packet delivery. The ml system must be able to tolerate real-time input data corruption / loss.\n"
   ]
  },
  {
   "cell_type": "markdown",
   "metadata": {},
   "source": [
    "## Sample of a raw H.264 data frame.\n"
   ]
  },
  {
   "cell_type": "code",
   "execution_count": null,
   "metadata": {},
   "outputs": [],
   "source": [
    "(True,\n",
    " array([[[ 39,  73,  80],\n",
    "         [ 38,  72,  79],\n",
    "         [ 40,  67,  75],\n",
    "         ...,\n",
    "         [ 19,  38,  39],\n",
    "         [  0,  39,  37],\n",
    "         [  0,  39,  37]],\n",
    "  \n",
    "        ...,\n",
    " \n",
    "        [[155, 176, 183],\n",
    "         [152, 173, 180],\n",
    "         [146, 167, 174],\n",
    "         ...,\n",
    "         [131, 157, 164],\n",
    "         [130, 155, 162],\n",
    "         [130, 155, 162]]], dtype=uint8))"
   ]
  },
  {
   "cell_type": "markdown",
   "metadata": {},
   "source": [
    "## Raw input video format and conversion\n",
    "The video data frame is 1280 x 720 x 3 in BGR format. The frame is reformatted to 3, 300, 300 RGB and normalized to (-1 to 1) to match the requirements of the pretrained SSD."
   ]
  },
  {
   "cell_type": "markdown",
   "metadata": {},
   "source": [
    "## References\n",
    "\n",
    "Single Shot MultiBox Detector - https://arxiv.org/abs/1512.02325\n",
    "\n",
    "Resnet18/50 vs Alexnet - https://towardsdatascience.com/the-w3h-of-alexnet-vggnet-resnet-and-inception-7baaaecccc96\n",
    "\n",
    "Jetson Nano - https://www.nvidia.com/en-us/autonomous-machines/embedded-systems/jetson-nano/\n",
    "\n",
    "Understanding SSD-MultiBox - https://towardsdatascience.com/understanding-ssd-multibox-real-time-object-detection-in-deep-learning-495ef744fab\n",
    "\n",
    "CCOC Dataset - http://cocodataset.org/#home\n",
    "\n",
    "CoCo Model Data Set List - https://github.com/tensorflow/models/blob/master/research/object_detection/data/mscoco_complete_label_map.pbtxt\n",
    "\n",
    "Non-Max Suppression Overview - https://www.coursera.org/lecture/convolutional-neural-networks/non-max-suppression-dvrjH\n",
    "\n",
    "Scaling video in OpenCV - https://www.codingforentrepreneurs.com/blog/open-cv-python-change-video-resolution-or-scale\n",
    "\n",
    "OpenCV VideoCapture() examples - https://www.programcreek.com/python/example/85663/cv2.VideoCapture\n",
    "\n",
    "OpenCV imencode examples - https://www.programcreek.com/python/example/70396/cv2.imencode\n",
    "\n",
    "Unofficial Tello Command and Video Protocols - https://gobot.io/blog/2018/04/20/hello-tello-hacking-drones-with-go/\n",
    "\n",
    "Tello Vdeo Stream Information - https://tellopilots.com/threads/sdk-streamon-format.2809/"
   ]
  },
  {
   "cell_type": "code",
   "execution_count": null,
   "metadata": {},
   "outputs": [],
   "source": []
  }
 ],
 "metadata": {
  "kernelspec": {
   "display_name": "Python 3",
   "language": "python",
   "name": "python3"
  },
  "language_info": {
   "codemirror_mode": {
    "name": "ipython",
    "version": 3
   },
   "file_extension": ".py",
   "mimetype": "text/x-python",
   "name": "python",
   "nbconvert_exporter": "python",
   "pygments_lexer": "ipython3",
   "version": "3.7.6"
  }
 },
 "nbformat": 4,
 "nbformat_minor": 4
}
